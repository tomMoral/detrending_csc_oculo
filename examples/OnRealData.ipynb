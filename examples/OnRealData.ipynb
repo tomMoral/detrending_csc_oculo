{
 "nbformat": 4,
 "nbformat_minor": 2,
 "metadata": {
  "language_info": {
   "name": "python",
   "codemirror_mode": {
    "name": "ipython",
    "version": 3
   },
   "version": "3.6.10-final"
  },
  "orig_nbformat": 2,
  "file_extension": ".py",
  "mimetype": "text/x-python",
  "name": "python",
  "npconvert_exporter": "python",
  "pygments_lexer": "ipython3",
  "version": 3,
  "kernelspec": {
   "name": "python361064bitoculoconda8942a39b373f4c01a0fb310c1ed69b3c",
   "display_name": "Python 3.6.10 64-bit ('oculo': conda)"
  }
 },
 "cells": [
  {
   "cell_type": "code",
   "execution_count": null,
   "metadata": {},
   "outputs": [],
   "source": [
    "import numpy as np\n",
    "import matplotlib.pyplot as plt\n",
    "%matplotlib inline\n",
    "import sys\n",
    "import os \n",
    "sys.path.append(os.getcwd()+'/../src')\n",
    "import matplotlib.pyplot as plt\n",
    "import numpy as np\n",
    "import matplotlib.animation as animation\n",
    "from IPython.display import HTML\n",
    "from alphacsc_trend.learn_d_z_trend import learn_d_z_trend\n",
    "import prox_tv as tv"
   ]
  },
  {
   "cell_type": "code",
   "execution_count": null,
   "metadata": {},
   "outputs": [],
   "source": [
    "PATH_TO_DATA=\"../data/\"\n",
    "random_state=3"
   ]
  },
  {
   "cell_type": "code",
   "execution_count": null,
   "metadata": {},
   "outputs": [],
   "source": [
    "from database import load_eyefant"
   ]
  },
  {
   "cell_type": "markdown",
   "execution_count": null,
   "metadata": {},
   "outputs": [],
   "source": [
    "## Patient 1\n"
   ]
  },
  {
   "cell_type": "code",
   "execution_count": null,
   "metadata": {},
   "outputs": [],
   "source": [
    "def smooth(x,window_len=21,window='hanning'):\n",
    "\n",
    "\n",
    "    s=np.r_[x[window_len-1:0:-1],x,x[-2:-window_len-1:-1]]\n",
    "    #print(len(s))\n",
    "    if window == 'flat': #moving average\n",
    "        w=np.ones(window_len,'d')\n",
    "    else:\n",
    "        w=eval('np.'+window+'(window_len)')\n",
    "\n",
    "    y=np.convolve(w/w.sum(),s,mode='valid')\n",
    "    return y"
   ]
  },
  {
   "cell_type": "code",
   "execution_count": null,
   "metadata": {},
   "outputs": [],
   "source": [
    "s = load_eyefant(PATH_TO_DATA+'D-Madina_EOM1_PositionPrimaire2_RegardLat_ODG.txt').signal.T\n",
    "\n",
    "l=1200\n",
    "\n",
    "s0 = smooth(s[1,5000:6200])\n",
    "s1 = smooth(s[1,24500:29200])\n",
    "s2 = smooth(s[1,53800:58800])\n",
    "\n",
    "\n",
    "def normalize(s):\n",
    "    t = s-np.mean(s)\n",
    "    return (t)/np.linalg.norm(t)\n",
    "\n",
    "s_list = [normalize(s0[:l]), normalize(s1[:l]), normalize(s1[l:2*l]), normalize(s1[2*l:3*l]) ,normalize(s2[l:2*l]), normalize(s2[2*l:3*l])]\n",
    "\n",
    "for j, i in enumerate(s_list):\n",
    "    #plt.xlabel('time (ms)')\n",
    "    #plt.ylabel('angle of view (arbitrary)')\n",
    "    plt.plot(i)\n",
    "    #plt.savefig('plot'+str(j), format='png')\n",
    "    plt.show()"
   ]
  },
  {
   "cell_type": "code",
   "execution_count": null,
   "metadata": {},
   "outputs": [],
   "source": [
    "S = np.array(s_list)\n",
    "init_trend = np.zeros(S.shape)\n",
    "lmbd = 1\n",
    "for i in range(S.shape[0]):\n",
    "    init_trend[i] = tv.tv1_1d(S[i], lmbd)\n",
    "    plt.plot(S[i])\n",
    "    plt.plot(init_trend[i])\n",
    "    plt.show()"
   ]
  },
  {
   "cell_type": "code",
   "execution_count": null,
   "metadata": {},
   "outputs": [],
   "source": [
    "ret = learn_d_z_trend(S, n_atoms=3, n_times_atom=200, reg_z=0.7, reg_trend=0.2, trend_init=init_trend, random_state=random_state)\n",
    "#Plot the trends\n",
    "#for i in range(S.shape[0]):\n",
    "#plt.plot(ret[4][i,:])\n",
    "    #plt.plot(init_trend[i])\n",
    "    #plt.plot(S[i])\n",
    "    #plt.show()\n",
    "\n",
    "#Plot the patterns\n",
    "for i in range(ret[2].shape[0]):\n",
    "    plt.plot(ret[2][i])\n",
    "plt.xlabel(\"time (ms)\")\n",
    "plt.ylabel(\"angle of view (arbitrary)\")\n",
    "plt.savefig('pattern_trend_1.png', quality=10, format='png')"
   ]
  },
  {
   "cell_type": "code",
   "execution_count": null,
   "metadata": {},
   "outputs": [],
   "source": [
    "ret = learn_d_z_trend(S-init_trend, n_atoms=3, n_times_atom=200, reg_z=0.7, reg_trend=1000000, trend_init=np.zeros_like(S), random_state=random_state)\n",
    "#Plot the trends\n",
    "#for i in range(S.shape[0]):\n",
    "    #plt.plot(init_trend[i])\n",
    "    #plt.plot(S[i])\n",
    "    #plt.show()\n",
    "\n",
    "#Plot the patterns\n",
    "for i in range(ret[2].shape[0]):\n",
    "    plt.plot(ret[2][i])\n",
    "    #plt.savefig('pattern_no_trend'+str(i), format='png')\n",
    "plt.xlabel(\"time (ms)\")\n",
    "plt.ylabel(\"angle of view (arbitrary)\")\n",
    "plt.savefig('pattern_no_trend_1.png', quality=10, format='png')"
   ]
  },
  {
   "cell_type": "markdown",
   "execution_count": null,
   "metadata": {},
   "outputs": [],
   "source": [
    "## PATIENT 2"
   ]
  },
  {
   "cell_type": "code",
   "execution_count": null,
   "metadata": {},
   "outputs": [],
   "source": [
    "s = load_eyefant(PATH_TO_DATA+'FURTAK_L_fixation9positions.txt').signal.T\n",
    "\n",
    "l=3500\n",
    "\n",
    "s0 = s[0,13600:17500]\n",
    "s1 = s[0,19100:22900]\n",
    "s2 = s[0,23400:27800]\n",
    "s3 = s[0,28400:32800]\n",
    "s4 = s[0,48200:52800]\n",
    "s5 = s[0,58000:62800]\n",
    "s6 = s[0,68000:72800]\n",
    "s7 = s[0,73400:77800]\n",
    "s8 = s[0,98200:102600]\n",
    "\n",
    "def normalize(s):\n",
    "    t = s-np.mean(s)\n",
    "    return (t)/np.linalg.norm(t)\n",
    "\n",
    "s_list = [normalize(s0[:l]),normalize(s1[:l]), normalize(s2[:l]), normalize(s3[:l]), normalize(s4[:l]), normalize(s5[:l]), normalize(s6[:l]), normalize(s7[:l]), normalize(s8[:l])]"
   ]
  },
  {
   "cell_type": "code",
   "execution_count": null,
   "metadata": {},
   "outputs": [],
   "source": [
    "for j, i in enumerate(s_list):\n",
    "    #plt.xlabel('time (ms)')\n",
    "    #plt.ylabel('angle of view (arbitrary)')\n",
    "    plt.plot(i)\n",
    "    #plt.savefig('plot'+str(j), format='png')\n",
    "    plt.show()"
   ]
  },
  {
   "cell_type": "code",
   "execution_count": null,
   "metadata": {},
   "outputs": [],
   "source": [
    "S = np.array(s_list)\n",
    "init_trend = np.zeros(S.shape)\n",
    "lmbd = 3\n",
    "for i in range(S.shape[0]):\n",
    "    init_trend[i] = tv.tv1_1d(S[i], lmbd)\n",
    "    plt.plot(S[i])\n",
    "    plt.plot(init_trend[i])\n",
    "    plt.show()"
   ]
  },
  {
   "cell_type": "code",
   "execution_count": null,
   "metadata": {},
   "outputs": [],
   "source": [
    "ret = learn_d_z_trend(S, n_atoms=3, n_times_atom=500, reg_z=0.2, reg_trend=0.1, trend_init=init_trend)\n",
    "#Plot the trends\n",
    "#for i in range(S.shape[0]):\n",
    "    #plt.plot(ret[4][i,:])\n",
    "    #plt.plot(init_trend[i])\n",
    "    #plt.plot(S[i])\n",
    "    #plt.show()\n",
    "\n",
    "#Plot the patterns\n",
    "for i in range(ret[2].shape[0]):\n",
    "    plt.plot(ret[2][i])\n",
    "    #plt.show()\n",
    "plt.xlabel(\"time (ms)\")\n",
    "plt.ylabel(\"angle of view (arbitrary)\")\n",
    "plt.savefig('pattern_trend_2.png', quality=10, format='png')"
   ]
  },
  {
   "cell_type": "code",
   "execution_count": null,
   "metadata": {},
   "outputs": [],
   "source": [
    "ret = learn_d_z_trend(S-init_trend, n_atoms=3, n_times_atom=500, reg_z=0.2, reg_trend=1000000, trend_init=np.zeros_like(S))\n",
    "#Plot the trends\n",
    "#for i in range(S.shape[0]):\n",
    "    #plt.plot(init_trend[i])\n",
    "    #plt.plot(S[i])\n",
    "    #plt.show()\n",
    "\n",
    "#Plot the patterns\n",
    "for i in range(ret[2].shape[0]):\n",
    "    plt.plot(ret[2][i])\n",
    "    #plt.show()\n",
    "plt.xlabel(\"time (ms)\")\n",
    "plt.ylabel(\"angle of view (arbitrary)\")\n",
    "plt.savefig('pattern_no_trend_2.png', quality=10, format='png')"
   ]
  },
  {
   "cell_type": "code",
   "execution_count": null,
   "metadata": {},
   "outputs": [],
   "source": [
    "for i in range(ret[2].shape[0]):\n",
    "    plt.plot(ret[2][i])\n",
    "    plt.show()"
   ]
  },
  {
   "cell_type": "code",
   "execution_count": null,
   "metadata": {},
   "outputs": [],
   "source": []
  }
 ]
}