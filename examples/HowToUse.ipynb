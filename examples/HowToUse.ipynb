{
 "cells": [
  {
   "cell_type": "code",
   "execution_count": null,
   "metadata": {},
   "outputs": [],
   "source": [
    "import numpy as np\n",
    "import matplotlib.pyplot as plt\n",
    "%matplotlib inline\n",
    "import sys\n",
    "import os \n",
    "sys.path.append(os.getcwd()+'/../src')\n",
    "import matplotlib.pyplot as plt\n",
    "import numpy as np\n",
    "import matplotlib.animation as animation\n",
    "from IPython.display import HTML"
   ]
  },
  {
   "cell_type": "code",
   "execution_count": null,
   "metadata": {},
   "outputs": [],
   "source": [
    "from alphacsc_trend.learn_d_z_trend import learn_d_z_trend"
   ]
  },
  {
   "cell_type": "code",
   "execution_count": null,
   "metadata": {},
   "outputs": [],
   "source": [
    "PATH_TO_DATA=\"../data/\"\n",
    "\n",
    "DATASET_TREND=np.load(PATH_TO_DATA+\"trends.npy\")\n",
    "DATASET_NYST=np.load(PATH_TO_DATA+\"nysts.npy\")\n",
    "DATASET_TREND_TRAIN = DATASET_TREND[:300,:]\n",
    "DATASET_TREND_TEST = DATASET_TREND[300:,:]\n",
    "DATASET_NYST_TRAIN = DATASET_NYST[:300,:]\n",
    "DATASET_NYST_TEST = DATASET_NYST[300:,:]\n",
    "\n",
    "TRAIN = DATASET_TREND_TRAIN+DATASET_NYST_TRAIN\n",
    "DATASET_TREND_TRAIN = DATASET_TREND_TRAIN - np.mean(TRAIN, axis=1)[:, None]\n",
    "DATASET_TREND_TRAIN = DATASET_TREND_TRAIN / np.linalg.norm(TRAIN, axis=1)[:, None]\n",
    "#DATASET_NYST_TRAIN = DATASET_NYST_TRAIN - np.mean(TRAIN, axis=1)[:, None]\n",
    "DATASET_NYST_TRAIN = DATASET_NYST_TRAIN / np.linalg.norm(TRAIN, axis=1)[:, None]\n",
    "TRAIN = TRAIN - np.mean(TRAIN, axis=1)[:, None]\n",
    "TRAIN = TRAIN / np.linalg.norm(TRAIN, axis=1)[:, None]\n",
    "\n",
    "TEST = DATASET_TREND_TEST+DATASET_NYST_TEST\n",
    "DATASET_TREND_TEST = DATASET_TREND_TEST - np.mean(TEST, axis=1)[:, None]\n",
    "DATASET_TREND_TEST = DATASET_TREND_TEST / np.linalg.norm(TEST, axis=1)[:, None]\n",
    "#DATASET_NYST_TEST = DATASET_NYST_TEST - np.mean(TEST, axis=1)[:, None]\n",
    "DATASET_NYST_TEST = DATASET_NYST_TEST / np.linalg.norm(TEST, axis=1)[:, None]\n",
    "TEST = TEST - np.mean(TEST, axis=1)[:, None]\n",
    "TEST = TEST / np.linalg.norm(TEST, axis=1)[:, None]"
   ]
  },
  {
   "cell_type": "code",
   "execution_count": null,
   "metadata": {},
   "outputs": [],
   "source": [
    "TRAIN = DATASET_TREND_TRAIN+DATASET_NYST_TRAIN"
   ]
  },
  {
   "cell_type": "code",
   "execution_count": null,
   "metadata": {},
   "outputs": [],
   "source": [
    "#Normalize\n",
    "TRAIN = TRAIN - np.mean(TRAIN, axis=1)[:, None]\n",
    "TRAIN = TRAIN / np.linalg.norm(TRAIN, axis=1)[:, None]"
   ]
  },
  {
   "cell_type": "code",
   "execution_count": null,
   "metadata": {},
   "outputs": [],
   "source": [
    "import prox_tv as tv\n",
    "init_trend = np.zeros(TRAIN.shape)\n",
    "lmbd = 0.29\n",
    "for i in range(TRAIN.shape[0]):\n",
    "    init_trend[i] = tv.tv1_1d(TRAIN[i], lmbd)"
   ]
  },
  {
   "cell_type": "code",
   "execution_count": null,
   "metadata": {},
   "outputs": [],
   "source": [
    "to_look = TRAIN#[10:30]\n",
    "trend_to_look = init_trend#[10:30]\n",
    "reg_z = 2 * 0.1 * np.max(np.abs(to_look))\n",
    "reg_trend = 0.5 * 0.1 * (np.max(to_look)-np.min(to_look))"
   ]
  },
  {
   "cell_type": "code",
   "execution_count": null,
   "metadata": {},
   "outputs": [],
   "source": [
    "ret = learn_d_z_trend(to_look, n_atoms=20, n_times_atom=300, reg_z=0.01, reg_trend=0.1, trend_init=trend_to_look)"
   ]
  },
  {
   "cell_type": "code",
   "execution_count": null,
   "metadata": {},
   "outputs": [],
   "source": [
    "for i in range(to_look.shape[0]):\n",
    "    plt.plot(ret[4][i,:])\n",
    "    plt.plot(init_trend[i])\n",
    "    plt.plot(to_look[i])\n",
    "    plt.show()"
   ]
  },
  {
   "cell_type": "code",
   "execution_count": null,
   "metadata": {},
   "outputs": [],
   "source": [
    "for i in range(ret[2].shape[0]):\n",
    "    plt.plot(ret[2][i])\n",
    "    plt.show()"
   ]
  },
  {
   "cell_type": "code",
   "execution_count": null,
   "metadata": {},
   "outputs": [],
   "source": [
    "np.save(\"results\", ret)"
   ]
  },
  {
   "cell_type": "code",
   "execution_count": null,
   "metadata": {},
   "outputs": [],
   "source": [
    "ret = np.load(\"results.npy\")"
   ]
  },
  {
   "cell_type": "code",
   "execution_count": null,
   "metadata": {},
   "outputs": [],
   "source": [
    "def R2(s_orr, s_pred):\n",
    "    return 1-np.sum((s_orr-s_pred)**2)/np.sum((s_orr-np.mean(s_orr))**2)"
   ]
  },
  {
   "cell_type": "code",
   "execution_count": null,
   "metadata": {},
   "outputs": [],
   "source": [
    "score=0\n",
    "for i in range(to_look.shape[0]):\n",
    "    score+= R2(DATASET_NYST_TRAIN[i], TRAIN[i]-ret[4][i,:])\n",
    "score = score/to_look.shape[0]"
   ]
  },
  {
   "cell_type": "code",
   "execution_count": null,
   "metadata": {},
   "outputs": [],
   "source": [
    "score"
   ]
  },
  {
   "cell_type": "code",
   "execution_count": null,
   "metadata": {},
   "outputs": [],
   "source": [
    "to_look = to_look[:10]\n",
    "trend_to_look = trend_to_look[:10]\n",
    "ret = learn_d_z_trend(to_look, n_atoms=20, n_times_atom=300, reg_z=0.01, reg_trend=0.1, trend_init=trend_to_look)"
   ]
  },
  {
   "cell_type": "code",
   "execution_count": null,
   "metadata": {},
   "outputs": [],
   "source": [
    "for i in range(to_look.shape[0]):\n",
    "    plt.plot(ret[4][i,:])\n",
    "    plt.plot(init_trend[i])\n",
    "    plt.plot(to_look[i])\n",
    "    plt.show()"
   ]
  },
  {
   "cell_type": "code",
   "execution_count": null,
   "metadata": {},
   "outputs": [],
   "source": [
    "for i in range(ret[2].shape[0]):\n",
    "    plt.plot(ret[2][i])\n",
    "    plt.show()"
   ]
  },
  {
   "cell_type": "code",
   "execution_count": null,
   "metadata": {},
   "outputs": [],
   "source": [
    "ret = learn_d_z_trend(to_look-trend_to_look, n_atoms=20, n_times_atom=300, reg_z=0.01, reg_trend=1000, trend_init=np.zeros(to_look.shape))"
   ]
  },
  {
   "cell_type": "code",
   "execution_count": null,
   "metadata": {},
   "outputs": [],
   "source": [
    "for i in range(to_look.shape[0]):\n",
    "    plt.plot(ret[4][i,:])\n",
    "    plt.plot(init_trend[i])\n",
    "    plt.plot(to_look[i])\n",
    "    plt.show()"
   ]
  },
  {
   "cell_type": "code",
   "execution_count": null,
   "metadata": {},
   "outputs": [],
   "source": [
    "for i in range(ret[2].shape[0]):\n",
    "    plt.plot(ret[2][i])\n",
    "    plt.show()"
   ]
  },
  {
   "cell_type": "code",
   "execution_count": null,
   "metadata": {},
   "outputs": [],
   "source": []
  }
 ],
 "metadata": {
  "kernelspec": {
   "display_name": "Python 3",
   "language": "python",
   "name": "python3"
  },
  "language_info": {
   "codemirror_mode": {
    "name": "ipython",
    "version": 3
   },
   "file_extension": ".py",
   "mimetype": "text/x-python",
   "name": "python",
   "nbconvert_exporter": "python",
   "pygments_lexer": "ipython3",
   "version": "3.7.6-final"
  }
 },
 "nbformat": 4,
 "nbformat_minor": 2
}